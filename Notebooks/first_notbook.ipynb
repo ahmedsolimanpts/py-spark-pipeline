{
 "cells": [
  {
   "cell_type": "code",
   "execution_count": 1,
   "metadata": {
    "collapsed": true
   },
   "outputs": [],
   "source": [
    "from pyspark.sql import SparkSession\n",
    "from pyspark.sql.functions import isnan ,isnull ,count ,when ,col ,split ,sum\n",
    "import matplotlib.pyplot as plt\n",
    "import pandas as pd\n",
    "import seaborn as sns\n",
    "import warnings\n",
    "warnings.filterwarnings('ignore')"
   ]
  },
  {
   "cell_type": "code",
   "execution_count": 2,
   "outputs": [
    {
     "name": "stdout",
     "output_type": "stream",
     "text": [
      "22/11/16 08:58:40 WARN Utils: Your hostname, ahmed008 resolves to a loopback address: 127.0.1.1; using 192.168.1.5 instead (on interface wlp2s0)\n",
      "22/11/16 08:58:40 WARN Utils: Set SPARK_LOCAL_IP if you need to bind to another address\n"
     ]
    },
    {
     "name": "stderr",
     "output_type": "stream",
     "text": [
      "Setting default log level to \"WARN\".\n",
      "To adjust logging level use sc.setLogLevel(newLevel). For SparkR, use setLogLevel(newLevel).\n"
     ]
    },
    {
     "name": "stdout",
     "output_type": "stream",
     "text": [
      "22/11/16 08:58:46 WARN NativeCodeLoader: Unable to load native-hadoop library for your platform... using builtin-java classes where applicable\n"
     ]
    }
   ],
   "source": [
    "spark = SparkSession.builder.appName('credit').getOrCreate()"
   ],
   "metadata": {
    "collapsed": false
   }
  },
  {
   "cell_type": "code",
   "execution_count": 3,
   "outputs": [
    {
     "name": "stderr",
     "output_type": "stream",
     "text": [
      "                                                                                \r"
     ]
    }
   ],
   "source": [
    "SOURCE_DATA = \"../Source Data/onlinefraud.csv\"\n",
    "df = spark.read.csv(SOURCE_DATA,header=True,inferSchema=True)"
   ],
   "metadata": {
    "collapsed": false
   }
  },
  {
   "cell_type": "code",
   "execution_count": 4,
   "outputs": [],
   "source": [
    "# temp_df = df.createOrReplaceTempView('df')"
   ],
   "metadata": {
    "collapsed": false
   }
  },
  {
   "cell_type": "markdown",
   "source": [
    "# EDA"
   ],
   "metadata": {
    "collapsed": false
   }
  },
  {
   "cell_type": "code",
   "execution_count": 5,
   "outputs": [
    {
     "name": "stderr",
     "output_type": "stream",
     "text": [
      "                                                                                \r"
     ]
    },
    {
     "data": {
      "text/plain": "6362620"
     },
     "execution_count": 5,
     "metadata": {},
     "output_type": "execute_result"
    }
   ],
   "source": [
    "df.count()"
   ],
   "metadata": {
    "collapsed": false
   }
  },
  {
   "cell_type": "code",
   "execution_count": 6,
   "outputs": [
    {
     "name": "stderr",
     "output_type": "stream",
     "text": [
      "                                                                                \r"
     ]
    }
   ],
   "source": [
    "# Add Duplicate Row\n",
    "x = df.tail(1)\n",
    "x = spark.createDataFrame(x)\n",
    "df = df.union(x)"
   ],
   "metadata": {
    "collapsed": false
   }
  },
  {
   "cell_type": "code",
   "execution_count": 7,
   "outputs": [
    {
     "name": "stderr",
     "output_type": "stream",
     "text": [
      "                                                                                \r"
     ]
    },
    {
     "ename": "Exception",
     "evalue": "There Is Duplicate row",
     "output_type": "error",
     "traceback": [
      "\u001B[0;31m---------------------------------------------------------------------------\u001B[0m",
      "\u001B[0;31mException\u001B[0m                                 Traceback (most recent call last)",
      "Cell \u001B[0;32mIn [7], line 2\u001B[0m\n\u001B[1;32m      1\u001B[0m \u001B[38;5;28;01mif\u001B[39;00m df\u001B[38;5;241m.\u001B[39mcount() \u001B[38;5;241m>\u001B[39m df\u001B[38;5;241m.\u001B[39mdropDuplicates()\u001B[38;5;241m.\u001B[39mcount():\n\u001B[0;32m----> 2\u001B[0m     \u001B[38;5;28;01mraise\u001B[39;00m \u001B[38;5;167;01mException\u001B[39;00m(\u001B[38;5;124m\"\u001B[39m\u001B[38;5;124mThere Is Duplicate row\u001B[39m\u001B[38;5;124m\"\u001B[39m)\n",
      "\u001B[0;31mException\u001B[0m: There Is Duplicate row"
     ]
    }
   ],
   "source": [
    "if df.count() > df.dropDuplicates().count():\n",
    "    raise Exception(\"There Is Duplicate row\")"
   ],
   "metadata": {
    "collapsed": false
   }
  },
  {
   "cell_type": "code",
   "execution_count": 8,
   "outputs": [
    {
     "name": "stderr",
     "output_type": "stream",
     "text": [
      "                                                                                \r"
     ]
    },
    {
     "name": "stdout",
     "output_type": "stream",
     "text": [
      "Non Duplicate RowS Count :  6362620\n"
     ]
    },
    {
     "name": "stderr",
     "output_type": "stream",
     "text": [
      "[Stage 21:====================================>                     (5 + 3) / 8]\r"
     ]
    },
    {
     "name": "stdout",
     "output_type": "stream",
     "text": [
      "Rows Count :  6362621\n"
     ]
    },
    {
     "name": "stderr",
     "output_type": "stream",
     "text": [
      "                                                                                \r"
     ]
    }
   ],
   "source": [
    "print('Non Duplicate RowS Count : ',df.dropDuplicates().count())\n",
    "print('Rows Count : ',df.count())"
   ],
   "metadata": {
    "collapsed": false
   }
  },
  {
   "cell_type": "code",
   "execution_count": 5,
   "outputs": [
    {
     "data": {
      "text/plain": "[Row(step=1, type='PAYMENT', amount=9839.64, nameOrig='C1231006815', oldbalanceOrg=170136.0, newbalanceOrig=160296.36, nameDest='M1979787155', oldbalanceDest=0.0, newbalanceDest=0.0, isFraud=0, isFlaggedFraud=0),\n Row(step=1, type='PAYMENT', amount=1864.28, nameOrig='C1666544295', oldbalanceOrg=21249.0, newbalanceOrig=19384.72, nameDest='M2044282225', oldbalanceDest=0.0, newbalanceDest=0.0, isFraud=0, isFlaggedFraud=0),\n Row(step=1, type='TRANSFER', amount=181.0, nameOrig='C1305486145', oldbalanceOrg=181.0, newbalanceOrig=0.0, nameDest='C553264065', oldbalanceDest=0.0, newbalanceDest=0.0, isFraud=1, isFlaggedFraud=0)]"
     },
     "execution_count": 5,
     "metadata": {},
     "output_type": "execute_result"
    }
   ],
   "source": [
    "df.head(3)"
   ],
   "metadata": {
    "collapsed": false
   }
  },
  {
   "cell_type": "code",
   "execution_count": 6,
   "outputs": [
    {
     "name": "stdout",
     "output_type": "stream",
     "text": [
      "+----+--------+---------+-----------+-------------+--------------+-----------+--------------+--------------+-------+--------------+\n",
      "|step|type    |amount   |nameOrig   |oldbalanceOrg|newbalanceOrig|nameDest   |oldbalanceDest|newbalanceDest|isFraud|isFlaggedFraud|\n",
      "+----+--------+---------+-----------+-------------+--------------+-----------+--------------+--------------+-------+--------------+\n",
      "|1   |PAYMENT |9839.64  |C1231006815|170136.0     |160296.36     |M1979787155|0.0           |0.0           |0      |0             |\n",
      "|1   |PAYMENT |1864.28  |C1666544295|21249.0      |19384.72      |M2044282225|0.0           |0.0           |0      |0             |\n",
      "|1   |TRANSFER|181.0    |C1305486145|181.0        |0.0           |C553264065 |0.0           |0.0           |1      |0             |\n",
      "|1   |CASH_OUT|181.0    |C840083671 |181.0        |0.0           |C38997010  |21182.0       |0.0           |1      |0             |\n",
      "|1   |PAYMENT |11668.14 |C2048537720|41554.0      |29885.86      |M1230701703|0.0           |0.0           |0      |0             |\n",
      "|1   |PAYMENT |7817.71  |C90045638  |53860.0      |46042.29      |M573487274 |0.0           |0.0           |0      |0             |\n",
      "|1   |PAYMENT |7107.77  |C154988899 |183195.0     |176087.23     |M408069119 |0.0           |0.0           |0      |0             |\n",
      "|1   |PAYMENT |7861.64  |C1912850431|176087.23    |168225.59     |M633326333 |0.0           |0.0           |0      |0             |\n",
      "|1   |PAYMENT |4024.36  |C1265012928|2671.0       |0.0           |M1176932104|0.0           |0.0           |0      |0             |\n",
      "|1   |DEBIT   |5337.77  |C712410124 |41720.0      |36382.23      |C195600860 |41898.0       |40348.79      |0      |0             |\n",
      "|1   |DEBIT   |9644.94  |C1900366749|4465.0       |0.0           |C997608398 |10845.0       |157982.12     |0      |0             |\n",
      "|1   |PAYMENT |3099.97  |C249177573 |20771.0      |17671.03      |M2096539129|0.0           |0.0           |0      |0             |\n",
      "|1   |PAYMENT |2560.74  |C1648232591|5070.0       |2509.26       |M972865270 |0.0           |0.0           |0      |0             |\n",
      "|1   |PAYMENT |11633.76 |C1716932897|10127.0      |0.0           |M801569151 |0.0           |0.0           |0      |0             |\n",
      "|1   |PAYMENT |4098.78  |C1026483832|503264.0     |499165.22     |M1635378213|0.0           |0.0           |0      |0             |\n",
      "|1   |CASH_OUT|229133.94|C905080434 |15325.0      |0.0           |C476402209 |5083.0        |51513.44      |0      |0             |\n",
      "|1   |PAYMENT |1563.82  |C761750706 |450.0        |0.0           |M1731217984|0.0           |0.0           |0      |0             |\n",
      "|1   |PAYMENT |1157.86  |C1237762639|21156.0      |19998.14      |M1877062907|0.0           |0.0           |0      |0             |\n",
      "|1   |PAYMENT |671.64   |C2033524545|15123.0      |14451.36      |M473053293 |0.0           |0.0           |0      |0             |\n",
      "|1   |TRANSFER|215310.3 |C1670993182|705.0        |0.0           |C1100439041|22425.0       |0.0           |0      |0             |\n",
      "+----+--------+---------+-----------+-------------+--------------+-----------+--------------+--------------+-------+--------------+\n",
      "only showing top 20 rows\n",
      "\n"
     ]
    }
   ],
   "source": [
    "spark.sql('SELECT * FROM df').show(truncate=False)"
   ],
   "metadata": {
    "collapsed": false
   }
  },
  {
   "cell_type": "code",
   "execution_count": 7,
   "outputs": [
    {
     "name": "stderr",
     "output_type": "stream",
     "text": [
      "[Stage 4:==============>                                            (1 + 3) / 4]\r"
     ]
    },
    {
     "name": "stdout",
     "output_type": "stream",
     "text": [
      "# Rows :  6362620\n"
     ]
    },
    {
     "name": "stderr",
     "output_type": "stream",
     "text": [
      "                                                                                \r"
     ]
    }
   ],
   "source": [
    "print('# Rows : ',df.count())"
   ],
   "metadata": {
    "collapsed": false
   }
  },
  {
   "cell_type": "code",
   "execution_count": 8,
   "outputs": [
    {
     "name": "stdout",
     "output_type": "stream",
     "text": [
      "# Columns :  11\n"
     ]
    }
   ],
   "source": [
    "print('# Columns : ',len(df.columns))"
   ],
   "metadata": {
    "collapsed": false
   }
  },
  {
   "cell_type": "code",
   "execution_count": 40,
   "outputs": [
    {
     "name": "stderr",
     "output_type": "stream",
     "text": [
      "[Stage 22:===========================================>              (3 + 1) / 4]\r"
     ]
    },
    {
     "name": "stdout",
     "output_type": "stream",
     "text": [
      "+----+----+------+--------+-------------+--------------+--------+--------------+--------------+-------+--------------+\n",
      "|step|type|amount|nameOrig|oldbalanceOrg|newbalanceOrig|nameDest|oldbalanceDest|newbalanceDest|isFraud|isFlaggedFraud|\n",
      "+----+----+------+--------+-------------+--------------+--------+--------------+--------------+-------+--------------+\n",
      "|   0|   0|     0|       0|            0|             0|       0|             0|             0|      0|             0|\n",
      "+----+----+------+--------+-------------+--------------+--------+--------------+--------------+-------+--------------+\n",
      "\n"
     ]
    },
    {
     "name": "stderr",
     "output_type": "stream",
     "text": [
      "                                                                                \r"
     ]
    }
   ],
   "source": [
    "# Get Nan\n",
    "df.select( [count( \\\n",
    "                when(isnan(i) | isnull(i) | col(i).isNull(),i) \\\n",
    "                  ).alias(i) for i in df.columns]).show()"
   ],
   "metadata": {
    "collapsed": false
   }
  },
  {
   "cell_type": "code",
   "execution_count": 12,
   "outputs": [
    {
     "name": "stdout",
     "output_type": "stream",
     "text": [
      "Columns Name : \n",
      "['step', 'type', 'amount', 'nameOrig', 'oldbalanceOrg', 'newbalanceOrig', 'nameDest', 'oldbalanceDest', 'newbalanceDest', 'isFraud', 'isFlaggedFraud']\n"
     ]
    }
   ],
   "source": [
    "print('Columns Name : ')\n",
    "print(df.columns)"
   ],
   "metadata": {
    "collapsed": false
   }
  },
  {
   "cell_type": "code",
   "execution_count": 46,
   "outputs": [
    {
     "name": "stderr",
     "output_type": "stream",
     "text": [
      "[Stage 31:===========================================>              (3 + 1) / 4]\r"
     ]
    },
    {
     "name": "stdout",
     "output_type": "stream",
     "text": [
      "+-------+------------------+--------+------------------+-----------+-----------------+-----------------+-----------+------------------+------------------+--------------------+---------------------+\n",
      "|summary|step              |type    |amount            |nameOrig   |oldbalanceOrg    |newbalanceOrig   |nameDest   |oldbalanceDest    |newbalanceDest    |isFraud             |isFlaggedFraud       |\n",
      "+-------+------------------+--------+------------------+-----------+-----------------+-----------------+-----------+------------------+------------------+--------------------+---------------------+\n",
      "|count  |6362620           |6362620 |6362620           |6362620    |6362620          |6362620          |6362620    |6362620           |6362620           |6362620             |6362620              |\n",
      "|mean   |243.39724563151657|null    |179861.90354913412|null       |833883.1040744719|855113.6685785714|null       |1100701.6665196654|1224996.3982019408|0.001290820448180152|2.51468734577894E-6  |\n",
      "|stddev |142.33197104912588|null    |603858.2314629498 |null       |2888242.673037545|2924048.502954253|null       |3399180.1129944855|3674128.9421195714|0.035904796801604424|0.0015857747057365502|\n",
      "|min    |1                 |CASH_IN |0.0               |C1000000639|0.0              |0.0              |C1000004082|0.0               |0.0               |0                   |0                    |\n",
      "|max    |743               |TRANSFER|9.244551664E7     |C999999784 |5.958504037E7    |4.958504037E7    |M999999784 |3.5601588935E8    |3.5617927892E8    |1                   |1                    |\n",
      "+-------+------------------+--------+------------------+-----------+-----------------+-----------------+-----------+------------------+------------------+--------------------+---------------------+\n",
      "\n"
     ]
    },
    {
     "name": "stderr",
     "output_type": "stream",
     "text": [
      "                                                                                \r"
     ]
    }
   ],
   "source": [
    "df.describe().show(truncate=False)"
   ],
   "metadata": {
    "collapsed": false
   }
  },
  {
   "cell_type": "code",
   "execution_count": 44,
   "outputs": [
    {
     "name": "stdout",
     "output_type": "stream",
     "text": [
      "root\n",
      " |-- step: integer (nullable = true)\n",
      " |-- type: string (nullable = true)\n",
      " |-- amount: double (nullable = true)\n",
      " |-- nameOrig: string (nullable = true)\n",
      " |-- oldbalanceOrg: double (nullable = true)\n",
      " |-- newbalanceOrig: double (nullable = true)\n",
      " |-- nameDest: string (nullable = true)\n",
      " |-- oldbalanceDest: double (nullable = true)\n",
      " |-- newbalanceDest: double (nullable = true)\n",
      " |-- isFraud: integer (nullable = true)\n",
      " |-- isFlaggedFraud: integer (nullable = true)\n",
      "\n"
     ]
    }
   ],
   "source": [
    "df.printSchema()"
   ],
   "metadata": {
    "collapsed": false
   }
  },
  {
   "cell_type": "code",
   "execution_count": 9,
   "outputs": [
    {
     "name": "stdout",
     "output_type": "stream",
     "text": [
      "+--------+-----------+-----------+\n",
      "|    type|   nameOrig|   nameDest|\n",
      "+--------+-----------+-----------+\n",
      "| PAYMENT|C1231006815|M1979787155|\n",
      "| PAYMENT|C1666544295|M2044282225|\n",
      "|TRANSFER|C1305486145| C553264065|\n",
      "|CASH_OUT| C840083671|  C38997010|\n",
      "| PAYMENT|C2048537720|M1230701703|\n",
      "| PAYMENT|  C90045638| M573487274|\n",
      "| PAYMENT| C154988899| M408069119|\n",
      "| PAYMENT|C1912850431| M633326333|\n",
      "| PAYMENT|C1265012928|M1176932104|\n",
      "|   DEBIT| C712410124| C195600860|\n",
      "|   DEBIT|C1900366749| C997608398|\n",
      "| PAYMENT| C249177573|M2096539129|\n",
      "| PAYMENT|C1648232591| M972865270|\n",
      "| PAYMENT|C1716932897| M801569151|\n",
      "| PAYMENT|C1026483832|M1635378213|\n",
      "|CASH_OUT| C905080434| C476402209|\n",
      "| PAYMENT| C761750706|M1731217984|\n",
      "| PAYMENT|C1237762639|M1877062907|\n",
      "| PAYMENT|C2033524545| M473053293|\n",
      "|TRANSFER|C1670993182|C1100439041|\n",
      "+--------+-----------+-----------+\n",
      "only showing top 20 rows\n",
      "\n"
     ]
    }
   ],
   "source": [
    "string_columns = [i[0] for i in df.dtypes if i[1].startswith('string')]\n",
    "df.select(string_columns).show()"
   ],
   "metadata": {
    "collapsed": false
   }
  },
  {
   "cell_type": "code",
   "execution_count": 4,
   "outputs": [],
   "source": [
    "df = df.withColumn('nameDest',split('nameDest','')[0])\n",
    "df = df.withColumn('nameOrig',split('nameOrig','')[0])"
   ],
   "metadata": {
    "collapsed": false
   }
  },
  {
   "cell_type": "code",
   "execution_count": 50,
   "outputs": [
    {
     "name": "stdout",
     "output_type": "stream",
     "text": [
      "+----+--------+---------+--------+-------------+--------------+--------+--------------+--------------+-------+--------------+\n",
      "|step|    type|   amount|nameOrig|oldbalanceOrg|newbalanceOrig|nameDest|oldbalanceDest|newbalanceDest|isFraud|isFlaggedFraud|\n",
      "+----+--------+---------+--------+-------------+--------------+--------+--------------+--------------+-------+--------------+\n",
      "|   1| PAYMENT|  9839.64|       C|     170136.0|     160296.36|       M|           0.0|           0.0|      0|             0|\n",
      "|   1| PAYMENT|  1864.28|       C|      21249.0|      19384.72|       M|           0.0|           0.0|      0|             0|\n",
      "|   1|TRANSFER|    181.0|       C|        181.0|           0.0|       C|           0.0|           0.0|      1|             0|\n",
      "|   1|CASH_OUT|    181.0|       C|        181.0|           0.0|       C|       21182.0|           0.0|      1|             0|\n",
      "|   1| PAYMENT| 11668.14|       C|      41554.0|      29885.86|       M|           0.0|           0.0|      0|             0|\n",
      "|   1| PAYMENT|  7817.71|       C|      53860.0|      46042.29|       M|           0.0|           0.0|      0|             0|\n",
      "|   1| PAYMENT|  7107.77|       C|     183195.0|     176087.23|       M|           0.0|           0.0|      0|             0|\n",
      "|   1| PAYMENT|  7861.64|       C|    176087.23|     168225.59|       M|           0.0|           0.0|      0|             0|\n",
      "|   1| PAYMENT|  4024.36|       C|       2671.0|           0.0|       M|           0.0|           0.0|      0|             0|\n",
      "|   1|   DEBIT|  5337.77|       C|      41720.0|      36382.23|       C|       41898.0|      40348.79|      0|             0|\n",
      "|   1|   DEBIT|  9644.94|       C|       4465.0|           0.0|       C|       10845.0|     157982.12|      0|             0|\n",
      "|   1| PAYMENT|  3099.97|       C|      20771.0|      17671.03|       M|           0.0|           0.0|      0|             0|\n",
      "|   1| PAYMENT|  2560.74|       C|       5070.0|       2509.26|       M|           0.0|           0.0|      0|             0|\n",
      "|   1| PAYMENT| 11633.76|       C|      10127.0|           0.0|       M|           0.0|           0.0|      0|             0|\n",
      "|   1| PAYMENT|  4098.78|       C|     503264.0|     499165.22|       M|           0.0|           0.0|      0|             0|\n",
      "|   1|CASH_OUT|229133.94|       C|      15325.0|           0.0|       C|        5083.0|      51513.44|      0|             0|\n",
      "|   1| PAYMENT|  1563.82|       C|        450.0|           0.0|       M|           0.0|           0.0|      0|             0|\n",
      "|   1| PAYMENT|  1157.86|       C|      21156.0|      19998.14|       M|           0.0|           0.0|      0|             0|\n",
      "|   1| PAYMENT|   671.64|       C|      15123.0|      14451.36|       M|           0.0|           0.0|      0|             0|\n",
      "|   1|TRANSFER| 215310.3|       C|        705.0|           0.0|       C|       22425.0|           0.0|      0|             0|\n",
      "+----+--------+---------+--------+-------------+--------------+--------+--------------+--------------+-------+--------------+\n",
      "only showing top 20 rows\n",
      "\n"
     ]
    }
   ],
   "source": [
    "df.show()"
   ],
   "metadata": {
    "collapsed": false
   }
  },
  {
   "cell_type": "code",
   "execution_count": 12,
   "outputs": [
    {
     "name": "stderr",
     "output_type": "stream",
     "text": [
      "Exception in thread \"refresh progress\" java.lang.OutOfMemoryError: Java heap space\n"
     ]
    },
    {
     "ename": "Py4JJavaError",
     "evalue": "An error occurred while calling o48.collectToPython.\n: java.lang.OutOfMemoryError: Java heap space\n",
     "output_type": "error",
     "traceback": [
      "\u001B[0;31m---------------------------------------------------------------------------\u001B[0m",
      "\u001B[0;31mPy4JJavaError\u001B[0m                             Traceback (most recent call last)",
      "Cell \u001B[0;32mIn [12], line 1\u001B[0m\n\u001B[0;32m----> 1\u001B[0m df_plot \u001B[38;5;241m=\u001B[39m \u001B[43mdf\u001B[49m\u001B[38;5;241;43m.\u001B[39;49m\u001B[43mtoPandas\u001B[49m\u001B[43m(\u001B[49m\u001B[43m)\u001B[49m\n\u001B[1;32m      2\u001B[0m \u001B[38;5;66;03m# sns.histplot(df_plot)\u001B[39;00m\n",
      "File \u001B[0;32m~/.local/lib/python3.10/site-packages/pyspark/sql/pandas/conversion.py:205\u001B[0m, in \u001B[0;36mPandasConversionMixin.toPandas\u001B[0;34m(self)\u001B[0m\n\u001B[1;32m    202\u001B[0m             \u001B[38;5;28;01mraise\u001B[39;00m\n\u001B[1;32m    204\u001B[0m \u001B[38;5;66;03m# Below is toPandas without Arrow optimization.\u001B[39;00m\n\u001B[0;32m--> 205\u001B[0m pdf \u001B[38;5;241m=\u001B[39m pd\u001B[38;5;241m.\u001B[39mDataFrame\u001B[38;5;241m.\u001B[39mfrom_records(\u001B[38;5;28;43mself\u001B[39;49m\u001B[38;5;241;43m.\u001B[39;49m\u001B[43mcollect\u001B[49m\u001B[43m(\u001B[49m\u001B[43m)\u001B[49m, columns\u001B[38;5;241m=\u001B[39m\u001B[38;5;28mself\u001B[39m\u001B[38;5;241m.\u001B[39mcolumns)\n\u001B[1;32m    206\u001B[0m column_counter \u001B[38;5;241m=\u001B[39m Counter(\u001B[38;5;28mself\u001B[39m\u001B[38;5;241m.\u001B[39mcolumns)\n\u001B[1;32m    208\u001B[0m corrected_dtypes: List[Optional[Type]] \u001B[38;5;241m=\u001B[39m [\u001B[38;5;28;01mNone\u001B[39;00m] \u001B[38;5;241m*\u001B[39m \u001B[38;5;28mlen\u001B[39m(\u001B[38;5;28mself\u001B[39m\u001B[38;5;241m.\u001B[39mschema)\n",
      "File \u001B[0;32m~/.local/lib/python3.10/site-packages/pyspark/sql/dataframe.py:817\u001B[0m, in \u001B[0;36mDataFrame.collect\u001B[0;34m(self)\u001B[0m\n\u001B[1;32m    807\u001B[0m \u001B[38;5;124;03m\"\"\"Returns all the records as a list of :class:`Row`.\u001B[39;00m\n\u001B[1;32m    808\u001B[0m \n\u001B[1;32m    809\u001B[0m \u001B[38;5;124;03m.. versionadded:: 1.3.0\u001B[39;00m\n\u001B[0;32m   (...)\u001B[0m\n\u001B[1;32m    814\u001B[0m \u001B[38;5;124;03m[Row(age=2, name='Alice'), Row(age=5, name='Bob')]\u001B[39;00m\n\u001B[1;32m    815\u001B[0m \u001B[38;5;124;03m\"\"\"\u001B[39;00m\n\u001B[1;32m    816\u001B[0m \u001B[38;5;28;01mwith\u001B[39;00m SCCallSiteSync(\u001B[38;5;28mself\u001B[39m\u001B[38;5;241m.\u001B[39m_sc):\n\u001B[0;32m--> 817\u001B[0m     sock_info \u001B[38;5;241m=\u001B[39m \u001B[38;5;28;43mself\u001B[39;49m\u001B[38;5;241;43m.\u001B[39;49m\u001B[43m_jdf\u001B[49m\u001B[38;5;241;43m.\u001B[39;49m\u001B[43mcollectToPython\u001B[49m\u001B[43m(\u001B[49m\u001B[43m)\u001B[49m\n\u001B[1;32m    818\u001B[0m \u001B[38;5;28;01mreturn\u001B[39;00m \u001B[38;5;28mlist\u001B[39m(_load_from_socket(sock_info, BatchedSerializer(CPickleSerializer())))\n",
      "File \u001B[0;32m~/.local/lib/python3.10/site-packages/py4j/java_gateway.py:1321\u001B[0m, in \u001B[0;36mJavaMember.__call__\u001B[0;34m(self, *args)\u001B[0m\n\u001B[1;32m   1315\u001B[0m command \u001B[38;5;241m=\u001B[39m proto\u001B[38;5;241m.\u001B[39mCALL_COMMAND_NAME \u001B[38;5;241m+\u001B[39m\\\n\u001B[1;32m   1316\u001B[0m     \u001B[38;5;28mself\u001B[39m\u001B[38;5;241m.\u001B[39mcommand_header \u001B[38;5;241m+\u001B[39m\\\n\u001B[1;32m   1317\u001B[0m     args_command \u001B[38;5;241m+\u001B[39m\\\n\u001B[1;32m   1318\u001B[0m     proto\u001B[38;5;241m.\u001B[39mEND_COMMAND_PART\n\u001B[1;32m   1320\u001B[0m answer \u001B[38;5;241m=\u001B[39m \u001B[38;5;28mself\u001B[39m\u001B[38;5;241m.\u001B[39mgateway_client\u001B[38;5;241m.\u001B[39msend_command(command)\n\u001B[0;32m-> 1321\u001B[0m return_value \u001B[38;5;241m=\u001B[39m \u001B[43mget_return_value\u001B[49m\u001B[43m(\u001B[49m\n\u001B[1;32m   1322\u001B[0m \u001B[43m    \u001B[49m\u001B[43manswer\u001B[49m\u001B[43m,\u001B[49m\u001B[43m \u001B[49m\u001B[38;5;28;43mself\u001B[39;49m\u001B[38;5;241;43m.\u001B[39;49m\u001B[43mgateway_client\u001B[49m\u001B[43m,\u001B[49m\u001B[43m \u001B[49m\u001B[38;5;28;43mself\u001B[39;49m\u001B[38;5;241;43m.\u001B[39;49m\u001B[43mtarget_id\u001B[49m\u001B[43m,\u001B[49m\u001B[43m \u001B[49m\u001B[38;5;28;43mself\u001B[39;49m\u001B[38;5;241;43m.\u001B[39;49m\u001B[43mname\u001B[49m\u001B[43m)\u001B[49m\n\u001B[1;32m   1324\u001B[0m \u001B[38;5;28;01mfor\u001B[39;00m temp_arg \u001B[38;5;129;01min\u001B[39;00m temp_args:\n\u001B[1;32m   1325\u001B[0m     temp_arg\u001B[38;5;241m.\u001B[39m_detach()\n",
      "File \u001B[0;32m~/.local/lib/python3.10/site-packages/pyspark/sql/utils.py:190\u001B[0m, in \u001B[0;36mcapture_sql_exception.<locals>.deco\u001B[0;34m(*a, **kw)\u001B[0m\n\u001B[1;32m    188\u001B[0m \u001B[38;5;28;01mdef\u001B[39;00m \u001B[38;5;21mdeco\u001B[39m(\u001B[38;5;241m*\u001B[39ma: Any, \u001B[38;5;241m*\u001B[39m\u001B[38;5;241m*\u001B[39mkw: Any) \u001B[38;5;241m-\u001B[39m\u001B[38;5;241m>\u001B[39m Any:\n\u001B[1;32m    189\u001B[0m     \u001B[38;5;28;01mtry\u001B[39;00m:\n\u001B[0;32m--> 190\u001B[0m         \u001B[38;5;28;01mreturn\u001B[39;00m \u001B[43mf\u001B[49m\u001B[43m(\u001B[49m\u001B[38;5;241;43m*\u001B[39;49m\u001B[43ma\u001B[49m\u001B[43m,\u001B[49m\u001B[43m \u001B[49m\u001B[38;5;241;43m*\u001B[39;49m\u001B[38;5;241;43m*\u001B[39;49m\u001B[43mkw\u001B[49m\u001B[43m)\u001B[49m\n\u001B[1;32m    191\u001B[0m     \u001B[38;5;28;01mexcept\u001B[39;00m Py4JJavaError \u001B[38;5;28;01mas\u001B[39;00m e:\n\u001B[1;32m    192\u001B[0m         converted \u001B[38;5;241m=\u001B[39m convert_exception(e\u001B[38;5;241m.\u001B[39mjava_exception)\n",
      "File \u001B[0;32m~/.local/lib/python3.10/site-packages/py4j/protocol.py:326\u001B[0m, in \u001B[0;36mget_return_value\u001B[0;34m(answer, gateway_client, target_id, name)\u001B[0m\n\u001B[1;32m    324\u001B[0m value \u001B[38;5;241m=\u001B[39m OUTPUT_CONVERTER[\u001B[38;5;28mtype\u001B[39m](answer[\u001B[38;5;241m2\u001B[39m:], gateway_client)\n\u001B[1;32m    325\u001B[0m \u001B[38;5;28;01mif\u001B[39;00m answer[\u001B[38;5;241m1\u001B[39m] \u001B[38;5;241m==\u001B[39m REFERENCE_TYPE:\n\u001B[0;32m--> 326\u001B[0m     \u001B[38;5;28;01mraise\u001B[39;00m Py4JJavaError(\n\u001B[1;32m    327\u001B[0m         \u001B[38;5;124m\"\u001B[39m\u001B[38;5;124mAn error occurred while calling \u001B[39m\u001B[38;5;132;01m{0}\u001B[39;00m\u001B[38;5;132;01m{1}\u001B[39;00m\u001B[38;5;132;01m{2}\u001B[39;00m\u001B[38;5;124m.\u001B[39m\u001B[38;5;130;01m\\n\u001B[39;00m\u001B[38;5;124m\"\u001B[39m\u001B[38;5;241m.\u001B[39m\n\u001B[1;32m    328\u001B[0m         \u001B[38;5;28mformat\u001B[39m(target_id, \u001B[38;5;124m\"\u001B[39m\u001B[38;5;124m.\u001B[39m\u001B[38;5;124m\"\u001B[39m, name), value)\n\u001B[1;32m    329\u001B[0m \u001B[38;5;28;01melse\u001B[39;00m:\n\u001B[1;32m    330\u001B[0m     \u001B[38;5;28;01mraise\u001B[39;00m Py4JError(\n\u001B[1;32m    331\u001B[0m         \u001B[38;5;124m\"\u001B[39m\u001B[38;5;124mAn error occurred while calling \u001B[39m\u001B[38;5;132;01m{0}\u001B[39;00m\u001B[38;5;132;01m{1}\u001B[39;00m\u001B[38;5;132;01m{2}\u001B[39;00m\u001B[38;5;124m. Trace:\u001B[39m\u001B[38;5;130;01m\\n\u001B[39;00m\u001B[38;5;132;01m{3}\u001B[39;00m\u001B[38;5;130;01m\\n\u001B[39;00m\u001B[38;5;124m\"\u001B[39m\u001B[38;5;241m.\u001B[39m\n\u001B[1;32m    332\u001B[0m         \u001B[38;5;28mformat\u001B[39m(target_id, \u001B[38;5;124m\"\u001B[39m\u001B[38;5;124m.\u001B[39m\u001B[38;5;124m\"\u001B[39m, name, value))\n",
      "\u001B[0;31mPy4JJavaError\u001B[0m: An error occurred while calling o48.collectToPython.\n: java.lang.OutOfMemoryError: Java heap space\n"
     ]
    }
   ],
   "source": [
    "# df_plot = df.toPandas()\n",
    "# sns.histplot(df_plot)"
   ],
   "metadata": {
    "collapsed": false
   }
  },
  {
   "cell_type": "code",
   "execution_count": 59,
   "outputs": [
    {
     "name": "stderr",
     "output_type": "stream",
     "text": [
      "[Stage 24:===========================================>              (3 + 1) / 4]\r"
     ]
    },
    {
     "name": "stdout",
     "output_type": "stream",
     "text": [
      "+--------+\n",
      "|nameDest|\n",
      "+--------+\n",
      "|       M|\n",
      "|       C|\n",
      "+--------+\n",
      "\n"
     ]
    },
    {
     "name": "stderr",
     "output_type": "stream",
     "text": [
      "                                                                                \r"
     ]
    }
   ],
   "source": [
    "# df.select('nameDest').distinct().show()"
   ],
   "metadata": {
    "collapsed": false
   }
  },
  {
   "cell_type": "code",
   "execution_count": 13,
   "outputs": [
    {
     "name": "stdout",
     "output_type": "stream",
     "text": [
      "+----+--------+---------+--------+-------------+--------------+--------+--------------+--------------+-------+--------------+\n",
      "|step|    type|   amount|nameOrig|oldbalanceOrg|newbalanceOrig|nameDest|oldbalanceDest|newbalanceDest|isFraud|isFlaggedFraud|\n",
      "+----+--------+---------+--------+-------------+--------------+--------+--------------+--------------+-------+--------------+\n",
      "|   1| PAYMENT|  9839.64|       C|     170136.0|     160296.36|       M|           0.0|           0.0|      0|             0|\n",
      "|   1| PAYMENT|  1864.28|       C|      21249.0|      19384.72|       M|           0.0|           0.0|      0|             0|\n",
      "|   1|TRANSFER|    181.0|       C|        181.0|           0.0|       C|           0.0|           0.0|      1|             0|\n",
      "|   1|CASH_OUT|    181.0|       C|        181.0|           0.0|       C|       21182.0|           0.0|      1|             0|\n",
      "|   1| PAYMENT| 11668.14|       C|      41554.0|      29885.86|       M|           0.0|           0.0|      0|             0|\n",
      "|   1| PAYMENT|  7817.71|       C|      53860.0|      46042.29|       M|           0.0|           0.0|      0|             0|\n",
      "|   1| PAYMENT|  7107.77|       C|     183195.0|     176087.23|       M|           0.0|           0.0|      0|             0|\n",
      "|   1| PAYMENT|  7861.64|       C|    176087.23|     168225.59|       M|           0.0|           0.0|      0|             0|\n",
      "|   1| PAYMENT|  4024.36|       C|       2671.0|           0.0|       M|           0.0|           0.0|      0|             0|\n",
      "|   1|   DEBIT|  5337.77|       C|      41720.0|      36382.23|       C|       41898.0|      40348.79|      0|             0|\n",
      "|   1|   DEBIT|  9644.94|       C|       4465.0|           0.0|       C|       10845.0|     157982.12|      0|             0|\n",
      "|   1| PAYMENT|  3099.97|       C|      20771.0|      17671.03|       M|           0.0|           0.0|      0|             0|\n",
      "|   1| PAYMENT|  2560.74|       C|       5070.0|       2509.26|       M|           0.0|           0.0|      0|             0|\n",
      "|   1| PAYMENT| 11633.76|       C|      10127.0|           0.0|       M|           0.0|           0.0|      0|             0|\n",
      "|   1| PAYMENT|  4098.78|       C|     503264.0|     499165.22|       M|           0.0|           0.0|      0|             0|\n",
      "|   1|CASH_OUT|229133.94|       C|      15325.0|           0.0|       C|        5083.0|      51513.44|      0|             0|\n",
      "|   1| PAYMENT|  1563.82|       C|        450.0|           0.0|       M|           0.0|           0.0|      0|             0|\n",
      "|   1| PAYMENT|  1157.86|       C|      21156.0|      19998.14|       M|           0.0|           0.0|      0|             0|\n",
      "|   1| PAYMENT|   671.64|       C|      15123.0|      14451.36|       M|           0.0|           0.0|      0|             0|\n",
      "|   1|TRANSFER| 215310.3|       C|        705.0|           0.0|       C|       22425.0|           0.0|      0|             0|\n",
      "+----+--------+---------+--------+-------------+--------------+--------+--------------+--------------+-------+--------------+\n",
      "only showing top 20 rows\n",
      "\n"
     ]
    }
   ],
   "source": [
    "df.show()"
   ],
   "metadata": {
    "collapsed": false
   }
  },
  {
   "cell_type": "code",
   "execution_count": 18,
   "outputs": [
    {
     "name": "stdout",
     "output_type": "stream",
     "text": [
      "+--------+-------+\n",
      "|nameDest|  count|\n",
      "+--------+-------+\n",
      "|       M|2151495|\n",
      "|       C|4211125|\n",
      "+--------+-------+\n",
      "\n"
     ]
    }
   ],
   "source": [
    "df.groupBy('nameDest').count().show()"
   ],
   "metadata": {
    "collapsed": false
   }
  },
  {
   "cell_type": "code",
   "execution_count": 21,
   "outputs": [
    {
     "data": {
      "text/plain": "(array([[1., 0., 0., 1., 0., 0., 0., 0., 0., 0.],\n        [0., 0., 0., 0., 0., 0., 1., 0., 0., 1.]]),\n array([0. , 0.3, 0.6, 0.9, 1.2, 1.5, 1.8, 2.1, 2.4, 2.7, 3. ]),\n <a list of 2 BarContainer objects>)"
     },
     "execution_count": 21,
     "metadata": {},
     "output_type": "execute_result"
    },
    {
     "data": {
      "text/plain": "<Figure size 640x480 with 1 Axes>",
      "image/png": "[encoded data removed]"
     },
     "metadata": {},
     "output_type": "display_data"
    }
   ],
   "source": [
    "plt.hist(df.groupBy('nameDest').count().collect())"
   ],
   "metadata": {
    "collapsed": false
   }
  },
  {
   "cell_type": "code",
   "execution_count": 38,
   "outputs": [],
   "source": [],
   "metadata": {
    "collapsed": false
   }
  },
  {
   "cell_type": "code",
   "execution_count": 32,
   "outputs": [],
   "source": [
    "pdf = df.select('nameDest').toPandas()"
   ],
   "metadata": {
    "collapsed": false
   }
  },
  {
   "cell_type": "code",
   "execution_count": 5,
   "outputs": [
    {
     "name": "stdout",
     "output_type": "stream",
     "text": [
      "+----+--------+---------+--------+-------------+--------------+--------+--------------+--------------+-------+--------------+\n",
      "|step|    type|   amount|nameOrig|oldbalanceOrg|newbalanceOrig|nameDest|oldbalanceDest|newbalanceDest|isFraud|isFlaggedFraud|\n",
      "+----+--------+---------+--------+-------------+--------------+--------+--------------+--------------+-------+--------------+\n",
      "|   1| PAYMENT|  9839.64|       C|     170136.0|     160296.36|       M|           0.0|           0.0|      0|             0|\n",
      "|   1| PAYMENT|  1864.28|       C|      21249.0|      19384.72|       M|           0.0|           0.0|      0|             0|\n",
      "|   1|TRANSFER|    181.0|       C|        181.0|           0.0|       C|           0.0|           0.0|      1|             0|\n",
      "|   1|CASH_OUT|    181.0|       C|        181.0|           0.0|       C|       21182.0|           0.0|      1|             0|\n",
      "|   1| PAYMENT| 11668.14|       C|      41554.0|      29885.86|       M|           0.0|           0.0|      0|             0|\n",
      "|   1| PAYMENT|  7817.71|       C|      53860.0|      46042.29|       M|           0.0|           0.0|      0|             0|\n",
      "|   1| PAYMENT|  7107.77|       C|     183195.0|     176087.23|       M|           0.0|           0.0|      0|             0|\n",
      "|   1| PAYMENT|  7861.64|       C|    176087.23|     168225.59|       M|           0.0|           0.0|      0|             0|\n",
      "|   1| PAYMENT|  4024.36|       C|       2671.0|           0.0|       M|           0.0|           0.0|      0|             0|\n",
      "|   1|   DEBIT|  5337.77|       C|      41720.0|      36382.23|       C|       41898.0|      40348.79|      0|             0|\n",
      "|   1|   DEBIT|  9644.94|       C|       4465.0|           0.0|       C|       10845.0|     157982.12|      0|             0|\n",
      "|   1| PAYMENT|  3099.97|       C|      20771.0|      17671.03|       M|           0.0|           0.0|      0|             0|\n",
      "|   1| PAYMENT|  2560.74|       C|       5070.0|       2509.26|       M|           0.0|           0.0|      0|             0|\n",
      "|   1| PAYMENT| 11633.76|       C|      10127.0|           0.0|       M|           0.0|           0.0|      0|             0|\n",
      "|   1| PAYMENT|  4098.78|       C|     503264.0|     499165.22|       M|           0.0|           0.0|      0|             0|\n",
      "|   1|CASH_OUT|229133.94|       C|      15325.0|           0.0|       C|        5083.0|      51513.44|      0|             0|\n",
      "|   1| PAYMENT|  1563.82|       C|        450.0|           0.0|       M|           0.0|           0.0|      0|             0|\n",
      "|   1| PAYMENT|  1157.86|       C|      21156.0|      19998.14|       M|           0.0|           0.0|      0|             0|\n",
      "|   1| PAYMENT|   671.64|       C|      15123.0|      14451.36|       M|           0.0|           0.0|      0|             0|\n",
      "|   1|TRANSFER| 215310.3|       C|        705.0|           0.0|       C|       22425.0|           0.0|      0|             0|\n",
      "+----+--------+---------+--------+-------------+--------------+--------+--------------+--------------+-------+--------------+\n",
      "only showing top 20 rows\n",
      "\n"
     ]
    }
   ],
   "source": [
    "df_sample = df.sample(fraction=0.10)\n",
    "df_sample.show()"
   ],
   "metadata": {
    "collapsed": false
   }
  },
  {
   "cell_type": "code",
   "execution_count": null,
   "outputs": [
    {
     "name": "stderr",
     "output_type": "stream",
     "text": [
      "                                                                                \r"
     ]
    }
   ],
   "source": [
    "sns.histplot(df_sample.select('amount').collect())"
   ],
   "metadata": {
    "collapsed": false,
    "pycharm": {
     "is_executing": true
    }
   }
  },
  {
   "cell_type": "code",
   "execution_count": 10,
   "outputs": [
    {
     "name": "stderr",
     "output_type": "stream",
     "text": [
      "                                                                                \r"
     ]
    },
    {
     "data": {
      "text/plain": "<AxesSubplot: ylabel='Count'>"
     },
     "execution_count": 10,
     "metadata": {},
     "output_type": "execute_result"
    },
    {
     "data": {
      "text/plain": "<Figure size 640x480 with 1 Axes>",
      "image/png": "[encoded data removed]"
     },
     "metadata": {},
     "output_type": "display_data"
    }
   ],
   "source": [
    "sns.histplot(df.rdd.map(lambda x :x.nameDest).collect())\n",
    "plt.show()"
   ],
   "metadata": {
    "collapsed": false
   }
  },
  {
   "cell_type": "code",
   "execution_count": 11,
   "outputs": [
    {
     "name": "stderr",
     "output_type": "stream",
     "text": [
      "                                                                                \r"
     ]
    },
    {
     "data": {
      "text/plain": "<AxesSubplot: ylabel='Count'>"
     },
     "execution_count": 11,
     "metadata": {},
     "output_type": "execute_result"
    },
    {
     "data": {
      "text/plain": "<Figure size 640x480 with 1 Axes>",
      "image/png": "[encoded data removed]"
     },
     "metadata": {},
     "output_type": "display_data"
    }
   ],
   "source": [
    "sns.histplot(df.rdd.map(lambda x :x.nameOrig).collect())"
   ],
   "metadata": {
    "collapsed": false
   }
  },
  {
   "cell_type": "code",
   "execution_count": null,
   "outputs": [],
   "source": [],
   "metadata": {
    "collapsed": false
   }
  }
 ],
 "metadata": {
  "kernelspec": {
   "display_name": "Python 3",
   "language": "python",
   "name": "python3"
  },
  "language_info": {
   "codemirror_mode": {
    "name": "ipython",
    "version": 2
   },
   "file_extension": ".py",
   "mimetype": "text/x-python",
   "name": "python",
   "nbconvert_exporter": "python",
   "pygments_lexer": "ipython2",
   "version": "2.7.6"
  }
 },
 "nbformat": 4,
 "nbformat_minor": 0
}
